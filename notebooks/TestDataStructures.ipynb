{
 "cells": [
  {
   "cell_type": "code",
   "execution_count": null,
   "metadata": {},
   "outputs": [],
   "source": [
    "cookiecutter https://github.com/aysuvorov/Volatome.git"
   ]
  },
  {
   "cell_type": "code",
   "execution_count": null,
   "metadata": {},
   "outputs": [],
   "source": [
    "cookiecutter https://github.com/drivendataorg/cookiecutter-data-science.git"
   ]
  }
 ],
 "metadata": {
  "kernelspec": {
   "display_name": "mlenv_test",
   "language": "python",
   "name": "python3"
  },
  "language_info": {
   "name": "python",
   "version": "3.10.14"
  }
 },
 "nbformat": 4,
 "nbformat_minor": 2
}
